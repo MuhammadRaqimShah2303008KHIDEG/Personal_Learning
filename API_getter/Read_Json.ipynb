{
 "cells": [
  {
   "cell_type": "code",
   "execution_count": 2,
   "id": "647502d3-b4ce-47dc-95fc-785e5c638092",
   "metadata": {
    "tags": []
   },
   "outputs": [
    {
     "data": {
      "text/html": [
       "<div>\n",
       "<style scoped>\n",
       "    .dataframe tbody tr th:only-of-type {\n",
       "        vertical-align: middle;\n",
       "    }\n",
       "\n",
       "    .dataframe tbody tr th {\n",
       "        vertical-align: top;\n",
       "    }\n",
       "\n",
       "    .dataframe thead th {\n",
       "        text-align: right;\n",
       "    }\n",
       "</style>\n",
       "<table border=\"1\" class=\"dataframe\">\n",
       "  <thead>\n",
       "    <tr style=\"text-align: right;\">\n",
       "      <th></th>\n",
       "      <th>result</th>\n",
       "      <th>provider</th>\n",
       "      <th>documentation</th>\n",
       "      <th>terms_of_use</th>\n",
       "      <th>time_last_update_unix</th>\n",
       "      <th>time_last_update_utc</th>\n",
       "      <th>time_next_update_unix</th>\n",
       "      <th>time_next_update_utc</th>\n",
       "      <th>time_eol_unix</th>\n",
       "      <th>base_code</th>\n",
       "      <th>rates</th>\n",
       "    </tr>\n",
       "  </thead>\n",
       "  <tbody>\n",
       "    <tr>\n",
       "      <th>AED</th>\n",
       "      <td>success</td>\n",
       "      <td>https://www.exchangerate-api.com</td>\n",
       "      <td>https://www.exchangerate-api.com/docs/free</td>\n",
       "      <td>https://www.exchangerate-api.com/terms</td>\n",
       "      <td>1685491351</td>\n",
       "      <td>Wed, 31 May 2023 00:02:31 +0000</td>\n",
       "      <td>1685578301</td>\n",
       "      <td>Thu, 01 Jun 2023 00:11:41 +0000</td>\n",
       "      <td>0</td>\n",
       "      <td>USD</td>\n",
       "      <td>3.672500</td>\n",
       "    </tr>\n",
       "    <tr>\n",
       "      <th>AFN</th>\n",
       "      <td>success</td>\n",
       "      <td>https://www.exchangerate-api.com</td>\n",
       "      <td>https://www.exchangerate-api.com/docs/free</td>\n",
       "      <td>https://www.exchangerate-api.com/terms</td>\n",
       "      <td>1685491351</td>\n",
       "      <td>Wed, 31 May 2023 00:02:31 +0000</td>\n",
       "      <td>1685578301</td>\n",
       "      <td>Thu, 01 Jun 2023 00:11:41 +0000</td>\n",
       "      <td>0</td>\n",
       "      <td>USD</td>\n",
       "      <td>87.473356</td>\n",
       "    </tr>\n",
       "    <tr>\n",
       "      <th>ALL</th>\n",
       "      <td>success</td>\n",
       "      <td>https://www.exchangerate-api.com</td>\n",
       "      <td>https://www.exchangerate-api.com/docs/free</td>\n",
       "      <td>https://www.exchangerate-api.com/terms</td>\n",
       "      <td>1685491351</td>\n",
       "      <td>Wed, 31 May 2023 00:02:31 +0000</td>\n",
       "      <td>1685578301</td>\n",
       "      <td>Thu, 01 Jun 2023 00:11:41 +0000</td>\n",
       "      <td>0</td>\n",
       "      <td>USD</td>\n",
       "      <td>102.792352</td>\n",
       "    </tr>\n",
       "    <tr>\n",
       "      <th>AMD</th>\n",
       "      <td>success</td>\n",
       "      <td>https://www.exchangerate-api.com</td>\n",
       "      <td>https://www.exchangerate-api.com/docs/free</td>\n",
       "      <td>https://www.exchangerate-api.com/terms</td>\n",
       "      <td>1685491351</td>\n",
       "      <td>Wed, 31 May 2023 00:02:31 +0000</td>\n",
       "      <td>1685578301</td>\n",
       "      <td>Thu, 01 Jun 2023 00:11:41 +0000</td>\n",
       "      <td>0</td>\n",
       "      <td>USD</td>\n",
       "      <td>386.610842</td>\n",
       "    </tr>\n",
       "    <tr>\n",
       "      <th>ANG</th>\n",
       "      <td>success</td>\n",
       "      <td>https://www.exchangerate-api.com</td>\n",
       "      <td>https://www.exchangerate-api.com/docs/free</td>\n",
       "      <td>https://www.exchangerate-api.com/terms</td>\n",
       "      <td>1685491351</td>\n",
       "      <td>Wed, 31 May 2023 00:02:31 +0000</td>\n",
       "      <td>1685578301</td>\n",
       "      <td>Thu, 01 Jun 2023 00:11:41 +0000</td>\n",
       "      <td>0</td>\n",
       "      <td>USD</td>\n",
       "      <td>1.790000</td>\n",
       "    </tr>\n",
       "    <tr>\n",
       "      <th>...</th>\n",
       "      <td>...</td>\n",
       "      <td>...</td>\n",
       "      <td>...</td>\n",
       "      <td>...</td>\n",
       "      <td>...</td>\n",
       "      <td>...</td>\n",
       "      <td>...</td>\n",
       "      <td>...</td>\n",
       "      <td>...</td>\n",
       "      <td>...</td>\n",
       "      <td>...</td>\n",
       "    </tr>\n",
       "    <tr>\n",
       "      <th>XPF</th>\n",
       "      <td>success</td>\n",
       "      <td>https://www.exchangerate-api.com</td>\n",
       "      <td>https://www.exchangerate-api.com/docs/free</td>\n",
       "      <td>https://www.exchangerate-api.com/terms</td>\n",
       "      <td>1685491351</td>\n",
       "      <td>Wed, 31 May 2023 00:02:31 +0000</td>\n",
       "      <td>1685578301</td>\n",
       "      <td>Thu, 01 Jun 2023 00:11:41 +0000</td>\n",
       "      <td>0</td>\n",
       "      <td>USD</td>\n",
       "      <td>111.237086</td>\n",
       "    </tr>\n",
       "    <tr>\n",
       "      <th>YER</th>\n",
       "      <td>success</td>\n",
       "      <td>https://www.exchangerate-api.com</td>\n",
       "      <td>https://www.exchangerate-api.com/docs/free</td>\n",
       "      <td>https://www.exchangerate-api.com/terms</td>\n",
       "      <td>1685491351</td>\n",
       "      <td>Wed, 31 May 2023 00:02:31 +0000</td>\n",
       "      <td>1685578301</td>\n",
       "      <td>Thu, 01 Jun 2023 00:11:41 +0000</td>\n",
       "      <td>0</td>\n",
       "      <td>USD</td>\n",
       "      <td>249.972759</td>\n",
       "    </tr>\n",
       "    <tr>\n",
       "      <th>ZAR</th>\n",
       "      <td>success</td>\n",
       "      <td>https://www.exchangerate-api.com</td>\n",
       "      <td>https://www.exchangerate-api.com/docs/free</td>\n",
       "      <td>https://www.exchangerate-api.com/terms</td>\n",
       "      <td>1685491351</td>\n",
       "      <td>Wed, 31 May 2023 00:02:31 +0000</td>\n",
       "      <td>1685578301</td>\n",
       "      <td>Thu, 01 Jun 2023 00:11:41 +0000</td>\n",
       "      <td>0</td>\n",
       "      <td>USD</td>\n",
       "      <td>19.689795</td>\n",
       "    </tr>\n",
       "    <tr>\n",
       "      <th>ZMW</th>\n",
       "      <td>success</td>\n",
       "      <td>https://www.exchangerate-api.com</td>\n",
       "      <td>https://www.exchangerate-api.com/docs/free</td>\n",
       "      <td>https://www.exchangerate-api.com/terms</td>\n",
       "      <td>1685491351</td>\n",
       "      <td>Wed, 31 May 2023 00:02:31 +0000</td>\n",
       "      <td>1685578301</td>\n",
       "      <td>Thu, 01 Jun 2023 00:11:41 +0000</td>\n",
       "      <td>0</td>\n",
       "      <td>USD</td>\n",
       "      <td>19.419514</td>\n",
       "    </tr>\n",
       "    <tr>\n",
       "      <th>ZWL</th>\n",
       "      <td>success</td>\n",
       "      <td>https://www.exchangerate-api.com</td>\n",
       "      <td>https://www.exchangerate-api.com/docs/free</td>\n",
       "      <td>https://www.exchangerate-api.com/terms</td>\n",
       "      <td>1685491351</td>\n",
       "      <td>Wed, 31 May 2023 00:02:31 +0000</td>\n",
       "      <td>1685578301</td>\n",
       "      <td>Thu, 01 Jun 2023 00:11:41 +0000</td>\n",
       "      <td>0</td>\n",
       "      <td>USD</td>\n",
       "      <td>1988.968917</td>\n",
       "    </tr>\n",
       "  </tbody>\n",
       "</table>\n",
       "<p>162 rows × 11 columns</p>\n",
       "</div>"
      ],
      "text/plain": [
       "      result                          provider  \\\n",
       "AED  success  https://www.exchangerate-api.com   \n",
       "AFN  success  https://www.exchangerate-api.com   \n",
       "ALL  success  https://www.exchangerate-api.com   \n",
       "AMD  success  https://www.exchangerate-api.com   \n",
       "ANG  success  https://www.exchangerate-api.com   \n",
       "..       ...                               ...   \n",
       "XPF  success  https://www.exchangerate-api.com   \n",
       "YER  success  https://www.exchangerate-api.com   \n",
       "ZAR  success  https://www.exchangerate-api.com   \n",
       "ZMW  success  https://www.exchangerate-api.com   \n",
       "ZWL  success  https://www.exchangerate-api.com   \n",
       "\n",
       "                                  documentation  \\\n",
       "AED  https://www.exchangerate-api.com/docs/free   \n",
       "AFN  https://www.exchangerate-api.com/docs/free   \n",
       "ALL  https://www.exchangerate-api.com/docs/free   \n",
       "AMD  https://www.exchangerate-api.com/docs/free   \n",
       "ANG  https://www.exchangerate-api.com/docs/free   \n",
       "..                                          ...   \n",
       "XPF  https://www.exchangerate-api.com/docs/free   \n",
       "YER  https://www.exchangerate-api.com/docs/free   \n",
       "ZAR  https://www.exchangerate-api.com/docs/free   \n",
       "ZMW  https://www.exchangerate-api.com/docs/free   \n",
       "ZWL  https://www.exchangerate-api.com/docs/free   \n",
       "\n",
       "                               terms_of_use  time_last_update_unix  \\\n",
       "AED  https://www.exchangerate-api.com/terms             1685491351   \n",
       "AFN  https://www.exchangerate-api.com/terms             1685491351   \n",
       "ALL  https://www.exchangerate-api.com/terms             1685491351   \n",
       "AMD  https://www.exchangerate-api.com/terms             1685491351   \n",
       "ANG  https://www.exchangerate-api.com/terms             1685491351   \n",
       "..                                      ...                    ...   \n",
       "XPF  https://www.exchangerate-api.com/terms             1685491351   \n",
       "YER  https://www.exchangerate-api.com/terms             1685491351   \n",
       "ZAR  https://www.exchangerate-api.com/terms             1685491351   \n",
       "ZMW  https://www.exchangerate-api.com/terms             1685491351   \n",
       "ZWL  https://www.exchangerate-api.com/terms             1685491351   \n",
       "\n",
       "                time_last_update_utc  time_next_update_unix  \\\n",
       "AED  Wed, 31 May 2023 00:02:31 +0000             1685578301   \n",
       "AFN  Wed, 31 May 2023 00:02:31 +0000             1685578301   \n",
       "ALL  Wed, 31 May 2023 00:02:31 +0000             1685578301   \n",
       "AMD  Wed, 31 May 2023 00:02:31 +0000             1685578301   \n",
       "ANG  Wed, 31 May 2023 00:02:31 +0000             1685578301   \n",
       "..                               ...                    ...   \n",
       "XPF  Wed, 31 May 2023 00:02:31 +0000             1685578301   \n",
       "YER  Wed, 31 May 2023 00:02:31 +0000             1685578301   \n",
       "ZAR  Wed, 31 May 2023 00:02:31 +0000             1685578301   \n",
       "ZMW  Wed, 31 May 2023 00:02:31 +0000             1685578301   \n",
       "ZWL  Wed, 31 May 2023 00:02:31 +0000             1685578301   \n",
       "\n",
       "                time_next_update_utc  time_eol_unix base_code        rates  \n",
       "AED  Thu, 01 Jun 2023 00:11:41 +0000              0       USD     3.672500  \n",
       "AFN  Thu, 01 Jun 2023 00:11:41 +0000              0       USD    87.473356  \n",
       "ALL  Thu, 01 Jun 2023 00:11:41 +0000              0       USD   102.792352  \n",
       "AMD  Thu, 01 Jun 2023 00:11:41 +0000              0       USD   386.610842  \n",
       "ANG  Thu, 01 Jun 2023 00:11:41 +0000              0       USD     1.790000  \n",
       "..                               ...            ...       ...          ...  \n",
       "XPF  Thu, 01 Jun 2023 00:11:41 +0000              0       USD   111.237086  \n",
       "YER  Thu, 01 Jun 2023 00:11:41 +0000              0       USD   249.972759  \n",
       "ZAR  Thu, 01 Jun 2023 00:11:41 +0000              0       USD    19.689795  \n",
       "ZMW  Thu, 01 Jun 2023 00:11:41 +0000              0       USD    19.419514  \n",
       "ZWL  Thu, 01 Jun 2023 00:11:41 +0000              0       USD  1988.968917  \n",
       "\n",
       "[162 rows x 11 columns]"
      ]
     },
     "execution_count": 2,
     "metadata": {},
     "output_type": "execute_result"
    }
   ],
   "source": [
    "import pandas as pd\n",
    "\n",
    "df= pd.read_json(\"response_1685512783102.json\")\n",
    "\n",
    "df"
   ]
  },
  {
   "cell_type": "code",
   "execution_count": 36,
   "id": "5a966921-e82b-4b32-a9c2-d3532843ed62",
   "metadata": {
    "tags": []
   },
   "outputs": [],
   "source": [
    "from pyspark.sql import SparkSession\n",
    "from IPython.display import clear_output, display\n"
   ]
  },
  {
   "cell_type": "code",
   "execution_count": 7,
   "id": "5fa821fe-9249-452e-81be-b9cb460699e7",
   "metadata": {
    "tags": []
   },
   "outputs": [
    {
     "name": "stderr",
     "output_type": "stream",
     "text": [
      "23/05/31 11:52:22 WARN Utils: Your hostname, all-MS-7D35 resolves to a loopback address: 127.0.1.1; using 192.168.1.108 instead (on interface enp2s0)\n",
      "23/05/31 11:52:22 WARN Utils: Set SPARK_LOCAL_IP if you need to bind to another address\n",
      "Setting default log level to \"WARN\".\n",
      "To adjust logging level use sc.setLogLevel(newLevel). For SparkR, use setLogLevel(newLevel).\n",
      "23/05/31 11:52:23 WARN NativeCodeLoader: Unable to load native-hadoop library for your platform... using builtin-java classes where applicable\n"
     ]
    }
   ],
   "source": [
    "spark = SparkSession.builder.getOrCreate()"
   ]
  },
  {
   "cell_type": "code",
   "execution_count": 42,
   "id": "27bbf3e5-9c6c-4028-a9a6-ac6755812464",
   "metadata": {
    "tags": []
   },
   "outputs": [],
   "source": [
    "data = spark.read.option(\"inferSchema\", \"true\").csv(\"data.csv\")\n"
   ]
  },
  {
   "cell_type": "code",
   "execution_count": 43,
   "id": "ba946b5f-6fdd-454b-b863-48452b10b4bf",
   "metadata": {
    "tags": []
   },
   "outputs": [
    {
     "data": {
      "text/plain": [
       "DataFrame[_c0: string, _c1: string, _c2: string, _c3: string, _c4: string, _c5: string, _c6: string, _c7: string, _c8: string, _c9: string, _c10: string, _c11: string]"
      ]
     },
     "execution_count": 43,
     "metadata": {},
     "output_type": "execute_result"
    }
   ],
   "source": [
    "data"
   ]
  },
  {
   "cell_type": "code",
   "execution_count": 44,
   "id": "c8dd5959-20f3-4256-b95a-47596e3d4758",
   "metadata": {
    "tags": []
   },
   "outputs": [
    {
     "name": "stdout",
     "output_type": "stream",
     "text": [
      "root\n",
      " |-- _c0: string (nullable = true)\n",
      " |-- _c1: string (nullable = true)\n",
      " |-- _c2: string (nullable = true)\n",
      " |-- _c3: string (nullable = true)\n",
      " |-- _c4: string (nullable = true)\n",
      " |-- _c5: string (nullable = true)\n",
      " |-- _c6: string (nullable = true)\n",
      " |-- _c7: string (nullable = true)\n",
      " |-- _c8: string (nullable = true)\n",
      " |-- _c9: string (nullable = true)\n",
      " |-- _c10: string (nullable = true)\n",
      " |-- _c11: string (nullable = true)\n",
      "\n"
     ]
    }
   ],
   "source": [
    "\n",
    "data.printSchema()"
   ]
  },
  {
   "cell_type": "code",
   "execution_count": 45,
   "id": "9507024f-c78c-4908-96a9-951c08d0f31b",
   "metadata": {
    "tags": []
   },
   "outputs": [
    {
     "name": "stdout",
     "output_type": "stream",
     "text": [
      "+----+-------+--------------------+--------------------+--------------------+--------------------+--------------------+--------------------+--------------------+-------------+---------+----------+\n",
      "| _c0|    _c1|                 _c2|                 _c3|                 _c4|                 _c5|                 _c6|                 _c7|                 _c8|          _c9|     _c10|      _c11|\n",
      "+----+-------+--------------------+--------------------+--------------------+--------------------+--------------------+--------------------+--------------------+-------------+---------+----------+\n",
      "|null| result|            provider|       documentation|        terms_of_use|time_last_update_...|time_last_update_utc|time_next_update_...|time_next_update_utc|time_eol_unix|base_code|     rates|\n",
      "| AED|success|https://www.excha...|https://www.excha...|https://www.excha...|          1685491351|Wed, 31 May 2023 ...|          1685578381|Thu, 01 Jun 2023 ...|            0|      USD|    3.6725|\n",
      "| AFN|success|https://www.excha...|https://www.excha...|https://www.excha...|          1685491351|Wed, 31 May 2023 ...|          1685578381|Thu, 01 Jun 2023 ...|            0|      USD| 87.473356|\n",
      "| ALL|success|https://www.excha...|https://www.excha...|https://www.excha...|          1685491351|Wed, 31 May 2023 ...|          1685578381|Thu, 01 Jun 2023 ...|            0|      USD|102.792352|\n",
      "| AMD|success|https://www.excha...|https://www.excha...|https://www.excha...|          1685491351|Wed, 31 May 2023 ...|          1685578381|Thu, 01 Jun 2023 ...|            0|      USD|386.610842|\n",
      "| ANG|success|https://www.excha...|https://www.excha...|https://www.excha...|          1685491351|Wed, 31 May 2023 ...|          1685578381|Thu, 01 Jun 2023 ...|            0|      USD|      1.79|\n",
      "| AOA|success|https://www.excha...|https://www.excha...|https://www.excha...|          1685491351|Wed, 31 May 2023 ...|          1685578381|Thu, 01 Jun 2023 ...|            0|      USD|576.791752|\n",
      "| ARS|success|https://www.excha...|https://www.excha...|https://www.excha...|          1685491351|Wed, 31 May 2023 ...|          1685578381|Thu, 01 Jun 2023 ...|            0|      USD|237.985107|\n",
      "| AUD|success|https://www.excha...|https://www.excha...|https://www.excha...|          1685491351|Wed, 31 May 2023 ...|          1685578381|Thu, 01 Jun 2023 ...|            0|      USD|  1.533887|\n",
      "| AWG|success|https://www.excha...|https://www.excha...|https://www.excha...|          1685491351|Wed, 31 May 2023 ...|          1685578381|Thu, 01 Jun 2023 ...|            0|      USD|      1.79|\n",
      "| AZN|success|https://www.excha...|https://www.excha...|https://www.excha...|          1685491351|Wed, 31 May 2023 ...|          1685578381|Thu, 01 Jun 2023 ...|            0|      USD|  1.698358|\n",
      "| BAM|success|https://www.excha...|https://www.excha...|https://www.excha...|          1685491351|Wed, 31 May 2023 ...|          1685578381|Thu, 01 Jun 2023 ...|            0|      USD|  1.823156|\n",
      "| BBD|success|https://www.excha...|https://www.excha...|https://www.excha...|          1685491351|Wed, 31 May 2023 ...|          1685578381|Thu, 01 Jun 2023 ...|            0|      USD|       2.0|\n",
      "| BDT|success|https://www.excha...|https://www.excha...|https://www.excha...|          1685491351|Wed, 31 May 2023 ...|          1685578381|Thu, 01 Jun 2023 ...|            0|      USD|107.773808|\n",
      "| BGN|success|https://www.excha...|https://www.excha...|https://www.excha...|          1685491351|Wed, 31 May 2023 ...|          1685578381|Thu, 01 Jun 2023 ...|            0|      USD|  1.822857|\n",
      "| BHD|success|https://www.excha...|https://www.excha...|https://www.excha...|          1685491351|Wed, 31 May 2023 ...|          1685578381|Thu, 01 Jun 2023 ...|            0|      USD|     0.376|\n",
      "| BIF|success|https://www.excha...|https://www.excha...|https://www.excha...|          1685491351|Wed, 31 May 2023 ...|          1685578381|Thu, 01 Jun 2023 ...|            0|      USD|2809.99367|\n",
      "| BMD|success|https://www.excha...|https://www.excha...|https://www.excha...|          1685491351|Wed, 31 May 2023 ...|          1685578381|Thu, 01 Jun 2023 ...|            0|      USD|       1.0|\n",
      "| BND|success|https://www.excha...|https://www.excha...|https://www.excha...|          1685491351|Wed, 31 May 2023 ...|          1685578381|Thu, 01 Jun 2023 ...|            0|      USD|  1.351265|\n",
      "| BOB|success|https://www.excha...|https://www.excha...|https://www.excha...|          1685491351|Wed, 31 May 2023 ...|          1685578381|Thu, 01 Jun 2023 ...|            0|      USD|  6.916983|\n",
      "+----+-------+--------------------+--------------------+--------------------+--------------------+--------------------+--------------------+--------------------+-------------+---------+----------+\n",
      "only showing top 20 rows\n",
      "\n"
     ]
    }
   ],
   "source": [
    "data.show()\n"
   ]
  },
  {
   "cell_type": "code",
   "execution_count": 46,
   "id": "7b29aadb-3e37-45ad-a612-98eb4c8f1ec8",
   "metadata": {
    "tags": []
   },
   "outputs": [],
   "source": [
    "\n",
    "data.write.mode(\"overwrite\").parquet(\"parquet_files/Parquet_data.parquet\")"
   ]
  },
  {
   "cell_type": "code",
   "execution_count": null,
   "id": "53b607f4-55cc-41d2-945a-479cf8eaecd6",
   "metadata": {},
   "outputs": [],
   "source": []
  }
 ],
 "metadata": {
  "kernelspec": {
   "display_name": "Python 3 (ipykernel)",
   "language": "python",
   "name": "python3"
  },
  "language_info": {
   "codemirror_mode": {
    "name": "ipython",
    "version": 3
   },
   "file_extension": ".py",
   "mimetype": "text/x-python",
   "name": "python",
   "nbconvert_exporter": "python",
   "pygments_lexer": "ipython3",
   "version": "3.10.6"
  }
 },
 "nbformat": 4,
 "nbformat_minor": 5
}
